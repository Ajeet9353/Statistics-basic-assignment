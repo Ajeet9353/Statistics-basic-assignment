{
 "cells": [
  {
   "cell_type": "markdown",
   "metadata": {},
   "source": [
    "Q1. What is Statistics?"
   ]
  },
  {
   "cell_type": "markdown",
   "metadata": {},
   "source": [
    "ANS.Statistics simply means numerical data, and is field of math that generally deals with collection of data, tabulation, and interpretation of numerical data and visualization."
   ]
  },
  {
   "cell_type": "markdown",
   "metadata": {},
   "source": [
    "Q3. What are the different types of data and how do they differ from each other? Provide an example of\n",
    "each type of data."
   ]
  },
  {
   "cell_type": "markdown",
   "metadata": {},
   "source": [
    "ANS. 1 Quantitative Data:Quantitative data can be measured and countable and expressed in terms of numerical values\n",
    "    for example: 01 Measurements (height, width, and weight)\n",
    "                02  Counts(Number of family members)\n",
    "    \n",
    "    2 Qualitative Data: Qualitative data is non-statistical and is typically unstructured or semi-structured Data\n",
    "        for example: 01 Courses offered by PWskills"
   ]
  },
  {
   "cell_type": "markdown",
   "metadata": {},
   "source": [
    "Q4. Categorise the following datasets with respect to quantitative and qualitative data types:\n",
    "(i) Grading in exam: A+, A, B+, B, C+, C, D, E\n",
    "(ii) Colour of mangoes: yellow, green, orange, red\n",
    "(iii) Height data of a class: [178.9, 179, 179.5, 176, 177.2, 178.3, 175.8,...]\n",
    "(iv) Number of mangoes exported by a farm: [500, 600, 478, 672, ...]"
   ]
  },
  {
   "cell_type": "markdown",
   "metadata": {},
   "source": [
    "Ans : Quantitative data= (i) Height data of a class: [178.9, 179, 179.5, 176, 177.2, 178.3, 175.8,...]\n",
    "                    =(ii) Number of mangoes exported by a farm: [500, 600, 478, 672, ...]\n",
    "\n",
    "    Qualitative data=(i) Grading in exam: A+, A, B+, B, C+, C, D, E\n",
    "                    (ii) Colour of mangoes: yellow, green, orange, red"
   ]
  },
  {
   "cell_type": "markdown",
   "metadata": {},
   "source": [
    "Q5. Explain the concept of levels of measurement and give an example of a variable for each level."
   ]
  },
  {
   "cell_type": "markdown",
   "metadata": {},
   "source": [
    " Ans : Going from lowest to highest, the 4 levels of measurement are cumulative. This means that they each take on the properties of lower levels and add new properties.\n",
    "\n",
    "01.Nominal level: Data is categerized by labelling and doesn't have specific order.\n",
    "for example:Car brands\n",
    "\n",
    "02.Ordinal level:The data can categorise and rank order\n",
    "for example:Customer feedback(poor,good,verygood)\n",
    "\n",
    "03.Interval level :the data can categorize, rank, and infer equal intervals between neighboring data points, but there is no true zero point.\n",
    "for example:Temprature in celsius\n",
    "\n",
    "04.Ratio level:the data can categorize, rank, and infer equal intervals between neighboring data points, and there is a true zero point\n",
    "for example:Height\n"
   ]
  },
  {
   "cell_type": "markdown",
   "metadata": {},
   "source": [
    "Q6. Why is it important to understand the level of measurement when analyzing data? Provide an\n",
    "example to illustrate your answer."
   ]
  },
  {
   "cell_type": "markdown",
   "metadata": {},
   "source": [
    "Ans:The level at which we measure a variable determines how we can analyze our data.\n",
    "\n",
    "The different levels limit which descriptive statistics we can use to get an overall summary of our data.In many cases, the variables can be measured at different levels, so we have to choose the level of measurement.\n",
    "\n",
    "example:A few examples of discrete data would be how much change you have in your pocket, how many iPhones were sold last year, and how much traffic came to your website today.\n",
    "\n",
    " discrete data can technically be categorical. For example, the number of baseball players in a team born in Mexico is whole and discrete"
   ]
  },
  {
   "cell_type": "markdown",
   "metadata": {},
   "source": [
    "Q7.How nominal data type is different from ordinal data type."
   ]
  },
  {
   "cell_type": "markdown",
   "metadata": {},
   "source": [
    "Ans:Nominal data features:\n",
    "\n",
    "(i)Can't be arranged into a meaningful order of hierarchy.\n",
    "\n",
    "(ii)Can be calculated using mode, frequency distribution, and statistical tests.\n",
    "\n",
    "(iii)example:my favorite color(red,green,yellow)\n",
    "\n",
    "Ordinal data features:\n",
    "\n",
    "(i)Places data into heirarchy order\n",
    "\n",
    "(ii)Is calculated using frequency distribution, mode, median, and range of variables.\n",
    "\n",
    "(iii)Example:Cusomer feedback(poor,good , very good)"
   ]
  },
  {
   "cell_type": "markdown",
   "metadata": {},
   "source": [
    "Q8. Which type of plot can be used to display data in terms of range?\n",
    "\n",
    "Ans: Histogram"
   ]
  },
  {
   "cell_type": "markdown",
   "metadata": {},
   "source": [
    "Q9. Describe the difference between descriptive and inferential statistics. Give an example of each\n",
    "type of statistics and explain how they are used.\n",
    "\n",
    "descriptive statistics:\n",
    "\n",
    "(i)Describe the features of populations and/or samples\n",
    "\n",
    "(ii)It gives final results visually using tables, charts, or graphs\n",
    "\n",
    "(iii) Draw a conclusion based on the given data\n",
    "\n",
    "(iv) Use measures like central tendency, distribution, and variance\n",
    "\n",
    "(v) different types of distribution data\n",
    "(vi) example:lets say there are "
   ]
  },
  {
   "cell_type": "markdown",
   "metadata": {},
   "source": []
  }
 ],
 "metadata": {
  "language_info": {
   "name": "python"
  },
  "orig_nbformat": 4
 },
 "nbformat": 4,
 "nbformat_minor": 2
}
